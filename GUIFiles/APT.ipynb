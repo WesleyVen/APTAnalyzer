{
 "cells": [
  {
   "cell_type": "code",
   "execution_count": 3,
   "metadata": {},
   "outputs": [],
   "source": [
    "import pandas as pd\n",
    "import aptFunctions as apt"
   ]
  },
  {
   "cell_type": "code",
   "execution_count": 4,
   "metadata": {},
   "outputs": [
    {
     "name": "stderr",
     "output_type": "stream",
     "text": [
      "parsing techniques: 100%|██████████| 566/566 [00:00<00:00, 2199.52it/s]\n",
      "parsing relationships for type=technique: 100%|██████████| 14069/14069 [00:00<00:00, 99798.85it/s]\n",
      "parsing mitigations: 100%|██████████| 14/14 [00:00<00:00, 16225.55it/s]\n",
      "parsing groups: 100%|██████████| 128/128 [00:00<00:00, 53843.24it/s]\n",
      "parsing relationships for type=group: 100%|██████████| 14069/14069 [00:00<00:00, 130093.28it/s]\n",
      "parsing software: 100%|██████████| 544/544 [00:00<00:00, 60694.85it/s]\n",
      "parsing relationships for type=software: 100%|██████████| 14069/14069 [00:00<00:00, 115613.18it/s]\n",
      "parsing mitigations: 100%|██████████| 43/43 [00:00<00:00, 54209.52it/s]\n",
      "parsing relationships for type=mitigation: 100%|██████████| 14069/14069 [00:00<00:00, 155837.30it/s]\n",
      "parsing all relationships: 100%|██████████| 14069/14069 [00:00<00:00, 94837.91it/s]\n"
     ]
    }
   ],
   "source": [
    "apt.updateDataFrameSources()\n",
    "techniques_df, tactis_df, groups_df, software_df, \\\n",
    "    mitigations_df, groupsFromRelationships, relationship_df = apt.buildDataFrames()"
   ]
  },
  {
   "cell_type": "code",
   "execution_count": 18,
   "metadata": {},
   "outputs": [],
   "source": [
    "techniques_by_group = relationship_df.query(\"source_ID == 'G0013' & target_type == 'technique'\").target_ID.tolist()\n",
    "software_by_group = relationship_df.query(\"source_ID == 'G0013' & target_type == 'software'\")\n",
    "mitigation_by_technique = relationship_df.query(\"target_ID == 'T1098' & source_type == 'mitigation'\")"
   ]
  },
  {
   "cell_type": "code",
   "execution_count": 45,
   "metadata": {},
   "outputs": [],
   "source": [
    "def getTechniquesByGroup(df: pd.DataFrame, GroupID: str) -> list:\n",
    "    '''\n",
    "    Return a list of all techniques used by a particular group\n",
    "    '''\n",
    "    return df[(df.source_ID == GroupID)& (df.target_type == 'technique')].target_ID.tolist()\n",
    "\n",
    "def getSofwareByGroup(df: pd.DataFrame, GroupID: str) -> list:\n",
    "    '''\n",
    "    Return a list of all software used by a particular group\n",
    "    '''\n",
    "    return df[(df.source_ID == GroupID) & (df.target_type == 'software')].target_ID.tolist()\n",
    "\n",
    "def mitigationsByTechnique(df: pd.DataFrame, TechniqueID: str) -> list:\n",
    "    '''\n",
    "    Return a list of all mitigations used by a particular technique\n",
    "    '''\n",
    "    return df[(df.target_ID == TechniqueID) & (df.source_type == 'mitigation')].source_ID.tolist()"
   ]
  },
  {
   "cell_type": "code",
   "execution_count": 46,
   "metadata": {},
   "outputs": [],
   "source": [
    "techs = getTechniquesByGroup(relationship_df, 'G0013')\n",
    "softs = getSofwareByGroup(relationship_df, 'G0013')"
   ]
  },
  {
   "cell_type": "code",
   "execution_count": null,
   "metadata": {},
   "outputs": [],
   "source": []
  }
 ],
 "metadata": {
  "interpreter": {
   "hash": "31f2aee4e71d21fbe5cf8b01ff0e069b9275f58929596ceb00d14d90e3e16cd6"
  },
  "kernelspec": {
   "display_name": "Python 3.9.9 64-bit",
   "language": "python",
   "name": "python3"
  },
  "language_info": {
   "codemirror_mode": {
    "name": "ipython",
    "version": 3
   },
   "file_extension": ".py",
   "mimetype": "text/x-python",
   "name": "python",
   "nbconvert_exporter": "python",
   "pygments_lexer": "ipython3",
   "version": "3.9.12"
  },
  "orig_nbformat": 4
 },
 "nbformat": 4,
 "nbformat_minor": 2
}
