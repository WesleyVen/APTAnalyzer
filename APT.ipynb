{
 "cells": [
  {
   "cell_type": "code",
   "execution_count": 55,
   "metadata": {},
   "outputs": [],
   "source": [
    "import pandas as pd\n",
    "import aptFunctions as apt"
   ]
  },
  {
   "cell_type": "code",
   "execution_count": 54,
   "metadata": {},
   "outputs": [
    {
     "ename": "NameError",
     "evalue": "name 'updateDataFrameSources' is not defined",
     "output_type": "error",
     "traceback": [
      "\u001b[0;31m---------------------------------------------------------------------------\u001b[0m",
      "\u001b[0;31mNameError\u001b[0m                                 Traceback (most recent call last)",
      "\u001b[0;32m/tmp/ipykernel_271/2959933822.py\u001b[0m in \u001b[0;36m<module>\u001b[0;34m\u001b[0m\n\u001b[0;32m----> 1\u001b[0;31m \u001b[0mupdateDataFrameSources\u001b[0m\u001b[0;34m(\u001b[0m\u001b[0;34m)\u001b[0m\u001b[0;34m\u001b[0m\u001b[0;34m\u001b[0m\u001b[0m\n\u001b[0m\u001b[1;32m      2\u001b[0m \u001b[0mtechniques_df\u001b[0m\u001b[0;34m,\u001b[0m \u001b[0mtactis_df\u001b[0m\u001b[0;34m,\u001b[0m \u001b[0mgroups_df\u001b[0m\u001b[0;34m,\u001b[0m \u001b[0msoftware_df\u001b[0m\u001b[0;34m,\u001b[0m\u001b[0;31m \u001b[0m\u001b[0;31m\\\u001b[0m\u001b[0;34m\u001b[0m\u001b[0;34m\u001b[0m\u001b[0m\n\u001b[1;32m      3\u001b[0m     \u001b[0mmitigations_df\u001b[0m\u001b[0;34m,\u001b[0m \u001b[0mgroupsFromRelationships\u001b[0m\u001b[0;34m,\u001b[0m \u001b[0mrelationships_df\u001b[0m \u001b[0;34m=\u001b[0m \u001b[0mbuildDataFrames\u001b[0m\u001b[0;34m(\u001b[0m\u001b[0;34m)\u001b[0m\u001b[0;34m\u001b[0m\u001b[0;34m\u001b[0m\u001b[0m\n",
      "\u001b[0;31mNameError\u001b[0m: name 'updateDataFrameSources' is not defined"
     ]
    }
   ],
   "source": [
    "apt.updateDataFrameSources()\n",
    "techniques_df, tactis_df, groups_df, software_df, \\\n",
    "    mitigations_df, groupsFromRelationships, relationships_df = buildDataFrames()"
   ]
  },
  {
   "cell_type": "code",
   "execution_count": 5,
   "metadata": {},
   "outputs": [],
   "source": [
    "IDs = [\"T1059\", \"T1187\"]\n",
    "# temp = groupsFromRelationships\n",
    "# for id in IDs:\n",
    "#     groups = temp[temp.target_ID.str.contains('{}'.format(id))]\n",
    "#     grouplist = groups.source_ID.tolist()\n",
    "#     temp = groupsFromRelationships[groupsFromRelationships['source_ID'].isin(grouplist)]"
   ]
  },
  {
   "cell_type": "code",
   "execution_count": 29,
   "metadata": {},
   "outputs": [],
   "source": [
    "def get_techniques_by_tactic() -> dict:\n",
    "    \"\"\"\n",
    "    Returns a dictionary of all techniques grouped by tactic.\n",
    "    \"\"\"\n",
    "    tacticsList = tactics_df.name.tolist()\n",
    "    techniques_by_tactic = {}\n",
    "    for tactic in tacticsList:\n",
    "        techniques_by_tactic[tactic] = techniques_df[techniques_df.tactics.str.contains('{}'.format(tactic))].name\n",
    "    return techniques_by_tactic\n",
    "\n",
    "def get_software_list() -> list:\n",
    "    \"\"\"\n",
    "    Returns a list of all software names.\n",
    "    \"\"\"\n",
    "    return software_df.name.tolist()\n",
    "\n",
    "def get_matches(df: pd.DataFrame, IDs: list) -> pd.DataFrame:\n",
    "    \"\"\"\n",
    "    Returns a dataframe of all groups that match the given technique IDs.\n",
    "    \"\"\"\n",
    "    temp = df\n",
    "    for id in IDs:\n",
    "        groups = temp[temp.target_ID.str.contains('{}'.format(id))]\n",
    "        grouplist = groups.source_ID.tolist()\n",
    "        temp = df[df.source_ID.isin(grouplist)]\n",
    "    return temp\n",
    "    \n",
    "def get_groups(df: pd.DataFrame, names: list) -> pd.DataFrame:\n",
    "    \"\"\"\n",
    "    Returns a dataframe of all groups that match the given techniques and sources.\n",
    "    \"\"\"\n",
    "    temp = df\n",
    "\n",
    "    for name in names:\n",
    "        print(name)\n",
    "        # name.rstrip() \n",
    "        groups = temp[temp.target_name.str.contains('{}'.format(name))]\n",
    "        print(groups)\n",
    "        grouplist = groups.source_ID.tolist()\n",
    "        temp = df[df.source_ID.isin(grouplist)]\n",
    "    return temp"
   ]
  },
  {
   "cell_type": "code",
   "execution_count": 11,
   "metadata": {},
   "outputs": [
    {
     "data": {
      "text/plain": [
       "2"
      ]
     },
     "execution_count": 11,
     "metadata": {},
     "output_type": "execute_result"
    }
   ],
   "source": [
    "matches = get_matches(groupsFromRelationships, IDs)\n",
    "matches.source_ID.unique().tolist()\n",
    "len(matches.source_ID.unique().tolist())"
   ]
  },
  {
   "cell_type": "code",
   "execution_count": 37,
   "metadata": {},
   "outputs": [
    {
     "data": {
      "text/plain": [
       "Series([], Name: source_ID, dtype: object)"
      ]
     },
     "execution_count": 37,
     "metadata": {},
     "output_type": "execute_result"
    }
   ],
   "source": [
    "test = groupsFromRelationships[groupsFromRelationships.target_name.str.contains('{}'.format(\"Account Discovery: Domain Account\"))].source_ID\n",
    "test"
   ]
  },
  {
   "cell_type": "code",
   "execution_count": 31,
   "metadata": {},
   "outputs": [
    {
     "name": "stdout",
     "output_type": "stream",
     "text": [
      "Account Discovery: Domain Account\n",
      "Empty DataFrame\n",
      "Columns: [source_ID, source_name, source_type, mapping_type, target_ID, target_name, target_type, mapping_description]\n",
      "Index: []\n",
      "BISCUIT\n",
      "Empty DataFrame\n",
      "Columns: [source_ID, source_name, source_type, mapping_type, target_ID, target_name, target_type, mapping_description]\n",
      "Index: []\n",
      "External Remote Services\n",
      "Empty DataFrame\n",
      "Columns: [source_ID, source_name, source_type, mapping_type, target_ID, target_name, target_type, mapping_description]\n",
      "Index: []\n",
      "Malware\n",
      "Empty DataFrame\n",
      "Columns: [source_ID, source_name, source_type, mapping_type, target_ID, target_name, target_type, mapping_description]\n",
      "Index: []\n",
      "Empty DataFrame\n",
      "Columns: [source_ID, source_name, source_type, mapping_type, target_ID, target_name, target_type, mapping_description]\n",
      "Index: []\n"
     ]
    }
   ],
   "source": [
    "selection = [\"Account Discovery: Domain Account\", \"BISCUIT\", \"External Remote Services\",\"Malware\"]\n",
    "groups = get_groups(groupsFromRelationships,selection)\n",
    "print(groups)"
   ]
  }
 ],
 "metadata": {
  "interpreter": {
   "hash": "31f2aee4e71d21fbe5cf8b01ff0e069b9275f58929596ceb00d14d90e3e16cd6"
  },
  "kernelspec": {
   "display_name": "Python 3.9.9 64-bit",
   "language": "python",
   "name": "python3"
  },
  "language_info": {
   "codemirror_mode": {
    "name": "ipython",
    "version": 3
   },
   "file_extension": ".py",
   "mimetype": "text/x-python",
   "name": "python",
   "nbconvert_exporter": "python",
   "pygments_lexer": "ipython3",
   "version": "3.9.10"
  },
  "orig_nbformat": 4
 },
 "nbformat": 4,
 "nbformat_minor": 2
}
