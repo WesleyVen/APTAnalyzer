{
 "cells": [
  {
   "cell_type": "code",
   "execution_count": 1,
   "metadata": {},
   "outputs": [
    {
     "name": "stdout",
     "output_type": "stream",
     "text": [
      "Note: NumExpr detected 16 cores but \"NUMEXPR_MAX_THREADS\" not set, so enforcing safe limit of 8.\n",
      "NumExpr defaulting to 8 threads.\n"
     ]
    }
   ],
   "source": [
    "import mitreattack.attackToExcel.attackToExcel as attackToExcel\n",
    "import mitreattack.attackToExcel.stixToDf as stixToDf\n",
    "import pandas as pd"
   ]
  },
  {
   "cell_type": "code",
   "execution_count": 2,
   "metadata": {},
   "outputs": [
    {
     "name": "stderr",
     "output_type": "stream",
     "text": [
      "parsing techniques: 100%|██████████| 566/566 [00:17<00:00, 33.09it/s]\n",
      "parsing relationships for type=technique: 100%|██████████| 14069/14069 [00:00<00:00, 100817.45it/s]\n",
      "parsing mitigations: 100%|██████████| 14/14 [00:00<00:00, 29463.25it/s]\n",
      "parsing groups: 100%|██████████| 128/128 [00:00<00:00, 52608.61it/s]\n",
      "parsing relationships for type=group: 100%|██████████| 14069/14069 [00:00<00:00, 118144.56it/s]\n",
      "parsing software: 100%|██████████| 544/544 [00:00<00:00, 57678.44it/s]\n",
      "parsing relationships for type=software: 100%|██████████| 14069/14069 [00:00<00:00, 108941.65it/s]\n",
      "parsing mitigations: 100%|██████████| 43/43 [00:00<00:00, 58235.41it/s]\n",
      "parsing relationships for type=mitigation: 100%|██████████| 14069/14069 [00:00<00:00, 154784.72it/s]\n",
      "parsing all relationships: 100%|██████████| 14069/14069 [00:00<00:00, 100183.80it/s]\n"
     ]
    }
   ],
   "source": [
    "attackdata = attackToExcel.get_stix_data(\"enterprise-attack\")\n",
    "techniques_data = stixToDf.techniquesToDf(attackdata, \"enterprise-attack\")\n",
    "tactics_data = stixToDf.tacticsToDf(attackdata, \"enerprise-attack\")\n",
    "groups_data = stixToDf.groupsToDf(attackdata, \"enterprise-attack\")\n",
    "software_data = stixToDf.softwareToDf(attackdata, \"enterprise-attack\")\n",
    "mitigations_data = stixToDf.mitigationsToDf(attackdata, \"enterprise-attack\")\n",
    "relationship_data = stixToDf.relationshipsToDf(attackdata)"
   ]
  },
  {
   "cell_type": "code",
   "execution_count": 3,
   "metadata": {},
   "outputs": [],
   "source": [
    "techniques_df = techniques_data[\"techniques\"]\n",
    "tactics_df = tactics_data[\"tactics\"]\n",
    "groups_df = groups_data[\"groups\"]\n",
    "software_df = software_data[\"software\"]\n",
    "mitigations_df = mitigations_data[\"mitigations\"]\n",
    "relationship_df = relationship_data[\"relationships\"]"
   ]
  },
  {
   "cell_type": "code",
   "execution_count": 4,
   "metadata": {},
   "outputs": [],
   "source": [
    "relationship_df.columns = [column.replace(\" \", \"_\") for column in relationship_df.columns]\n",
    "groupsFromRelationships = relationship_df.query(\"source_type == 'group'\")"
   ]
  },
  {
   "cell_type": "code",
   "execution_count": 13,
   "metadata": {},
   "outputs": [],
   "source": [
    "IDs = [\"T1059\"]\n",
    "temp = groupsFromRelationships\n",
    "for id in IDs:\n",
    "    groups = temp[temp.target_ID.str.contains('{}'.format(id))]\n",
    "    grouplist = groups.source_ID.tolist()\n",
    "    temp = groupsFromRelationships[groupsFromRelationships['source_ID'].isin(grouplist)]"
   ]
  },
  {
   "cell_type": "code",
   "execution_count": 8,
   "metadata": {},
   "outputs": [],
   "source": [
    "def get_matches(df: pd.DataFrame, IDs: list) -> pd.DataFrame:\n",
    "    \"\"\"\n",
    "    Returns a dataframe of all groups that match the given technique IDs.\n",
    "    \"\"\"\n",
    "    temp = df\n",
    "    for id in IDs:\n",
    "        groups = temp[temp.target_ID.str.contains('{}'.format(id))]\n",
    "        grouplist = groups.source_ID.tolist()\n",
    "        temp = df[df.source_ID.isin(grouplist)]\n",
    "    return temp"
   ]
  },
  {
   "cell_type": "code",
   "execution_count": 7,
   "metadata": {},
   "outputs": [
    {
     "data": {
      "text/plain": [
       "1"
      ]
     },
     "execution_count": 7,
     "metadata": {},
     "output_type": "execute_result"
    }
   ],
   "source": [
    "matches = get_matches(groupsFromRelationships, IDs)\n",
    "matches.source_ID.unique().tolist()\n",
    "len(matches.source_ID.unique().tolist())"
   ]
  }
 ],
 "metadata": {
  "interpreter": {
   "hash": "31f2aee4e71d21fbe5cf8b01ff0e069b9275f58929596ceb00d14d90e3e16cd6"
  },
  "kernelspec": {
   "display_name": "Python 3.9.9 64-bit",
   "language": "python",
   "name": "python3"
  },
  "language_info": {
   "codemirror_mode": {
    "name": "ipython",
    "version": 3
   },
   "file_extension": ".py",
   "mimetype": "text/x-python",
   "name": "python",
   "nbconvert_exporter": "python",
   "pygments_lexer": "ipython3",
   "version": "3.9.10"
  },
  "orig_nbformat": 4
 },
 "nbformat": 4,
 "nbformat_minor": 2
}
